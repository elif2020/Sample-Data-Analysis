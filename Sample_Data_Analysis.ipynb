{
 "cells": [
  {
   "cell_type": "markdown",
   "id": "eead103d",
   "metadata": {},
   "source": [
    "## Pebble Post Cookie Match Data Analysis"
   ]
  },
  {
   "cell_type": "markdown",
   "id": "bdceaccc",
   "metadata": {},
   "source": [
    "Let's import some of the necessary libraries to start our analysis."
   ]
  },
  {
   "cell_type": "code",
   "execution_count": 107,
   "id": "ae0e3a89",
   "metadata": {},
   "outputs": [],
   "source": [
    "import zipfile\n",
    "import pandas as pd\n",
    "from pandas.errors import EmptyDataError\n",
    "import matplotlib.pyplot as plt \n",
    "import seaborn as sns"
   ]
  },
  {
   "cell_type": "markdown",
   "id": "aaced376",
   "metadata": {},
   "source": [
    "Now, we will get the data from each zipped folder and save it into two data frames one for the event_sample and one for the cookie_match_sample. "
   ]
  },
  {
   "cell_type": "code",
   "execution_count": 18,
   "id": "a8e0c23a",
   "metadata": {},
   "outputs": [],
   "source": [
    "zfe = zipfile.ZipFile(r\"C:\\Users\\uelif\\Documents\\jobs\\Interview\\takehome\\event_sample.zip\")\n",
    "dfe = pd.DataFrame()\n",
    "for f in zfe.namelist():\n",
    "    try:\n",
    "        df = pd.read_csv(zfe.open(f))\n",
    "    except EmptyDataError:\n",
    "        df = pd.DataFrame()\n",
    "    dfe=pd.concat([dfe,df],ignore_index=True)"
   ]
  },
  {
   "cell_type": "code",
   "execution_count": 20,
   "id": "fa0e713c",
   "metadata": {},
   "outputs": [
    {
     "name": "stdout",
     "output_type": "stream",
     "text": [
      "<class 'pandas.core.frame.DataFrame'>\n",
      "RangeIndex: 1389990 entries, 0 to 1389989\n",
      "Data columns (total 5 columns):\n",
      " #   Column         Non-Null Count    Dtype \n",
      "---  ------         --------------    ----- \n",
      " 0   brand_id       1389990 non-null  int64 \n",
      " 1   ppid           1389989 non-null  object\n",
      " 2   event_type     1389990 non-null  object\n",
      " 3   device_family  1389988 non-null  object\n",
      " 4   date           1389990 non-null  object\n",
      "dtypes: int64(1), object(4)\n",
      "memory usage: 53.0+ MB\n"
     ]
    }
   ],
   "source": [
    "#info on the event_sample dataframe\n",
    "dfe.info()"
   ]
  },
  {
   "cell_type": "code",
   "execution_count": 21,
   "id": "7a56c5ee",
   "metadata": {},
   "outputs": [],
   "source": [
    "zfcm = zipfile.ZipFile(r\"C:\\Users\\uelif\\Documents\\jobs\\Interview\\takehome\\cookie_match_sample.zip\")\n",
    "dfcm = pd.DataFrame()\n",
    "for f in zfcm.namelist():\n",
    "    try:\n",
    "        df = pd.read_csv(zfcm.open(f))\n",
    "    except EmptyDataError:\n",
    "        df = pd.DataFrame()\n",
    "    dfcm=pd.concat([dfcm,df],ignore_index=True)"
   ]
  },
  {
   "cell_type": "code",
   "execution_count": 22,
   "id": "8c61c75d",
   "metadata": {},
   "outputs": [
    {
     "name": "stdout",
     "output_type": "stream",
     "text": [
      "<class 'pandas.core.frame.DataFrame'>\n",
      "RangeIndex: 1031659 entries, 0 to 1031658\n",
      "Data columns (total 3 columns):\n",
      " #   Column      Non-Null Count    Dtype \n",
      "---  ------      --------------    ----- \n",
      " 0   ppid        1031659 non-null  object\n",
      " 1   matched_id  1031659 non-null  object\n",
      " 2   date        1031659 non-null  object\n",
      "dtypes: object(3)\n",
      "memory usage: 23.6+ MB\n"
     ]
    }
   ],
   "source": [
    "#info on the cookie_match_sample dataframe\n",
    "dfcm.info()"
   ]
  },
  {
   "cell_type": "markdown",
   "id": "53057e11",
   "metadata": {},
   "source": [
    "Cookie_match_sample dataframe does not have any null entries, but event_sample dataframe has a few. We will drop those observations since taking those out will not have much impact on our analysis of close to a million observations. Also, we will drop duplicates if there are any from both data frames."
   ]
  },
  {
   "cell_type": "code",
   "execution_count": 72,
   "id": "afb0f286",
   "metadata": {},
   "outputs": [],
   "source": [
    "dfe.dropna(inplace=True)\n",
    "dfe.drop_duplicates(inplace=True)\n",
    "dfcm.drop_duplicates(inplace=True)"
   ]
  },
  {
   "cell_type": "markdown",
   "id": "82185677",
   "metadata": {},
   "source": [
    "**Problem 1:** Find the number of events and number of matched events for each brand for each day."
   ]
  },
  {
   "cell_type": "code",
   "execution_count": 75,
   "id": "53ad68f1",
   "metadata": {},
   "outputs": [
    {
     "name": "stdout",
     "output_type": "stream",
     "text": [
      "                     event_count\n",
      "brand_id date                   \n",
      "1034     2018-03-15         1568\n",
      "         2018-03-16         1424\n",
      "         2018-03-17         1135\n",
      "         2018-03-18         1220\n",
      "         2018-03-19         1764\n",
      "         2018-03-20         1586\n",
      "         2018-03-21         1392\n",
      "         2018-03-22         1409\n",
      "         2018-03-23         1419\n",
      "         2018-03-24         1185\n",
      "         2018-03-25         1362\n",
      "         2018-03-26         1854\n",
      "         2018-03-27         1535\n",
      "         2018-03-28         1481\n",
      "1101     2018-03-15        10710\n",
      "         2018-03-16        10837\n",
      "         2018-03-17        10970\n",
      "         2018-03-18        12590\n",
      "         2018-03-19        12107\n",
      "         2018-03-20        11936\n",
      "         2018-03-21        11997\n",
      "         2018-03-22        11894\n",
      "         2018-03-23        11344\n",
      "         2018-03-24        11018\n",
      "         2018-03-25        12240\n",
      "         2018-03-26        11595\n",
      "         2018-03-27        10884\n",
      "         2018-03-28        10400\n",
      "1472     2018-03-15        46249\n",
      "         2018-03-16        46722\n",
      "         2018-03-17        46981\n",
      "         2018-03-18        54423\n",
      "         2018-03-19        56015\n",
      "         2018-03-20        52669\n",
      "         2018-03-21        51232\n",
      "         2018-03-22        45883\n",
      "         2018-03-23        42051\n",
      "         2018-03-24        37003\n",
      "         2018-03-25        42877\n",
      "         2018-03-26        41958\n",
      "         2018-03-27        38847\n",
      "         2018-03-28        38172\n"
     ]
    }
   ],
   "source": [
    "#number of events for each brand for each day\n",
    "event_groups = dfe.groupby(['brand_id','date']).agg({'ppid':'count'})\n",
    "event_groups.columns=['event_count']\n",
    "print(event_groups)"
   ]
  },
  {
   "cell_type": "code",
   "execution_count": 76,
   "id": "8d30aa21",
   "metadata": {},
   "outputs": [
    {
     "name": "stdout",
     "output_type": "stream",
     "text": [
      "                     matched_event_count\n",
      "brand_id date                           \n",
      "1034     2018-03-15                   18\n",
      "         2018-03-16                   12\n",
      "         2018-03-17                    6\n",
      "         2018-03-18                    8\n",
      "         2018-03-19                   11\n",
      "         2018-03-20                   12\n",
      "         2018-03-21                   12\n",
      "         2018-03-22                    9\n",
      "         2018-03-23                   12\n",
      "         2018-03-24                    6\n",
      "         2018-03-25                    6\n",
      "         2018-03-26                   13\n",
      "         2018-03-27                    6\n",
      "         2018-03-28                    9\n",
      "1101     2018-03-15                  249\n",
      "         2018-03-16                  249\n",
      "         2018-03-17                  249\n",
      "         2018-03-18                  294\n",
      "         2018-03-19                  241\n",
      "         2018-03-20                  227\n",
      "         2018-03-21                  239\n",
      "         2018-03-22                  228\n",
      "         2018-03-23                  205\n",
      "         2018-03-24                  216\n",
      "         2018-03-25                  258\n",
      "         2018-03-26                  227\n",
      "         2018-03-27                  198\n",
      "         2018-03-28                  215\n",
      "1472     2018-03-15                 2009\n",
      "         2018-03-16                 2016\n",
      "         2018-03-17                 2113\n",
      "         2018-03-18                 2459\n",
      "         2018-03-19                 2443\n",
      "         2018-03-20                 2242\n",
      "         2018-03-21                 2406\n",
      "         2018-03-22                 2115\n",
      "         2018-03-23                 1997\n",
      "         2018-03-24                 2013\n",
      "         2018-03-25                 2405\n",
      "         2018-03-26                 2221\n",
      "         2018-03-27                 1923\n",
      "         2018-03-28                 1896\n"
     ]
    }
   ],
   "source": [
    "#number of matched events for each brand for each day\n",
    "mergedcookies = pd.merge(dfe,dfcm,on=['ppid','date'],how='inner')\n",
    "matched_groups = mergedcookies.groupby(['brand_id','date']).agg({'ppid':'count'})\n",
    "matched_groups.columns=['matched_event_count']\n",
    "print(matched_groups)"
   ]
  },
  {
   "cell_type": "markdown",
   "id": "c3d7a71c",
   "metadata": {},
   "source": [
    "**Problem 2:** Find the average number of events for each day of the week for each brand and visualize it with a plot."
   ]
  },
  {
   "cell_type": "code",
   "execution_count": 140,
   "id": "4c107d3b",
   "metadata": {},
   "outputs": [
    {
     "name": "stdout",
     "output_type": "stream",
     "text": [
      "    brand_id        day  mean_events\n",
      "0       1034     Friday       1421.5\n",
      "1       1034     Monday       1809.0\n",
      "2       1034   Saturday       1160.0\n",
      "3       1034     Sunday       1291.0\n",
      "4       1034   Thursday       1488.5\n",
      "5       1034    Tuesday       1560.5\n",
      "6       1034  Wednesday       1436.5\n",
      "7       1101     Friday      11090.5\n",
      "8       1101     Monday      11851.0\n",
      "9       1101   Saturday      10994.0\n",
      "10      1101     Sunday      12415.0\n",
      "11      1101   Thursday      11302.0\n",
      "12      1101    Tuesday      11410.0\n",
      "13      1101  Wednesday      11198.5\n",
      "14      1472     Friday      44386.5\n",
      "15      1472     Monday      48986.5\n",
      "16      1472   Saturday      41992.0\n",
      "17      1472     Sunday      48650.0\n",
      "18      1472   Thursday      46066.0\n",
      "19      1472    Tuesday      45758.0\n",
      "20      1472  Wednesday      44702.0\n"
     ]
    }
   ],
   "source": [
    "#add a column to event_sample dataframe that shows the day of the week\n",
    "datetime = pd.to_datetime(dfe['date'])\n",
    "dfe['day'] = datetime.dt.day_name()\n",
    "\n",
    "#group by the brand_id and the day of the week and count events\n",
    "tempdf = dfe.groupby(['brand_id','day','date']).agg({'ppid':'count'}).reset_index()\n",
    "event_avrg = tempdf.groupby(['brand_id','day']).agg({'ppid':'mean'}).reset_index()\n",
    "event_avrg.columns = ['brand_id','day','mean_events']\n",
    "print(event_avrg)"
   ]
  },
  {
   "cell_type": "code",
   "execution_count": 141,
   "id": "edd4a217",
   "metadata": {},
   "outputs": [
    {
     "data": {
      "text/plain": [
       "Text(0, 0.5, 'Average Number of Events')"
      ]
     },
     "execution_count": 141,
     "metadata": {},
     "output_type": "execute_result"
    },
    {
     "data": {
      "image/png": "[encoded data removed]",
      "text/plain": [
       "<Figure size 432x288 with 1 Axes>"
      ]
     },
     "metadata": {
      "needs_background": "light"
     },
     "output_type": "display_data"
    }
   ],
   "source": [
    "days = ['Monday','Tuesday','Wednesday','Thursday','Friday','Saturday','Sunday']\n",
    "\n",
    "# set categorical order\n",
    "event_avrg['day'] = pd.Categorical(event_avrg['day'], categories=days, ordered=True)\n",
    "\n",
    "#plot\n",
    "sns.lineplot(x='day', y='mean_events', data=event_avrg, hue='brand_id',\n",
    "             palette=sns.color_palette(\"hls\",len(event_avrg['brand_id'].unique())))\n",
    "\n",
    "plt.title('Average Number of Events Per Day')\n",
    "plt.xlabel('Days of the Week')\n",
    "plt.ylabel('Average Number of Events')\n"
   ]
  },
  {
   "cell_type": "markdown",
   "id": "72fb6f80",
   "metadata": {},
   "source": [
    "**Problem 3:** Any interesting observations about the sample data?\n",
    "\n",
    "So far we have worked mostly on event_sample data, and as we can see in the above figure, the average number of user visits to brand websites is higher on Sundays and Mondays especially for brand_id 1472, while it is much less on Saturdays. For the other two brands although we can see a similar trend on Saturday, Sunday and Monday, the changes are not as dramatic as in the first brand. In general average user visits is steady throughout the week for brand_id 1101 and 1034. Brand 1034 gets the lowest number of user visits in general and brand_id 1472 gets the highest number of average user visits during the recorded two weeks. If we go back to Problem 1 and compare the two dataframes for event_counts and matched_event_counts, we can see that only a small fraction of events are matched. The percentage of events that are matched increases as we move to the brands that has higher user visits. "
   ]
  },
  {
   "cell_type": "markdown",
   "id": "e136a38c",
   "metadata": {},
   "source": [
    "\n"
   ]
  }
 ],
 "metadata": {
  "kernelspec": {
   "display_name": "Python 3",
   "language": "python",
   "name": "python3"
  },
  "language_info": {
   "codemirror_mode": {
    "name": "ipython",
    "version": 3
   },
   "file_extension": ".py",
   "mimetype": "text/x-python",
   "name": "python",
   "nbconvert_exporter": "python",
   "pygments_lexer": "ipython3",
   "version": "3.8.8"
  }
 },
 "nbformat": 4,
 "nbformat_minor": 5
}
